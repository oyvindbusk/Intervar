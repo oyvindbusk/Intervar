{
 "metadata": {
  "name": "",
  "signature": "sha256:1e80ca97bc8efad307ef0483e5385f43acc898603f99de6d85c272a70d9fcc04"
 },
 "nbformat": 3,
 "nbformat_minor": 0,
 "worksheets": [
  {
   "cells": [
    {
     "cell_type": "code",
     "collapsed": false,
     "input": [
      "import csv\n",
      "listoflists = [['hei',2,3],['hoho', 4, 5],['to', 8, 19]]\n",
      "\n",
      "with open(\"output.csv\", \"wb\") as f:\n",
      "    writer = csv.writer(f)\n",
      "    writer.writerows(listoflists)\n",
      "\n",
      "\n",
      "\n"
     ],
     "language": "python",
     "metadata": {},
     "outputs": []
    }
   ],
   "metadata": {}
  }
 ]
}