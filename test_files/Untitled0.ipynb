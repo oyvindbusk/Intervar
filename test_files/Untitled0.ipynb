{
 "metadata": {
  "name": "",
  "signature": "sha256:ae44227b518505ddc2929af4970c105044f8d290ac16f51603ad39b8ba4dac6e"
 },
 "nbformat": 3,
 "nbformat_minor": 0,
 "worksheets": [
  {
   "cells": [
    {
     "cell_type": "code",
     "collapsed": false,
     "input": [
      "with open(file) as fin:\n",
      "     rows = ( line.split('\\t') for line in fin )\n",
      "     d = { row[0]:row[1:] for row in rows }\n",
      "        \n",
      "        print(json.dumps(info))"
     ],
     "language": "python",
     "metadata": {},
     "outputs": []
    },
    {
     "cell_type": "code",
     "collapsed": false,
     "input": [
      "import json\n",
      "hsfile = '523_15_hsmetrix_out.txt'\n",
      "\n",
      "with open(hsfile,'r') as hsmetrics:\n",
      "    rows = (line.strip().split('\\t') for line in hsmetrics)\n",
      "    print(rows)\n",
      "    d = { row[0]:''.join(row[1:]) for row in rows }\n",
      "print(json.dumps(d))"
     ],
     "language": "python",
     "metadata": {},
     "outputs": [
      {
       "output_type": "stream",
       "stream": "stdout",
       "text": [
        "<generator object <genexpr> at 0x103d2ac30>\n",
        "{\"HS_LIBRARY_SIZE\": \"97986787\", \"HS_PENALTY_50X\": \"5.165376\", \"PCT_TARGET_BASES_10X\": \"0.954778\", \"OFF_BAIT_BASES\": \"2713304616\", \"READ_GROUP\": \"\", \"ON_BAIT_BASES\": \"3802098666\", \"PCT_OFF_BAIT\": \"0.266046\", \"ON_BAIT_VS_SELECTED\": \"0.507939\", \"HS_PENALTY_30X\": \"4.814725\", \"PCT_TARGET_BASES_30X\": \"0.903437\", \"HS_PENALTY_40X\": \"4.978823\", \"TOTAL_READS\": \"94012248\", \"ON_TARGET_BASES\": \"5212947200\", \"MEAN_TARGET_COVERAGE\": \"116.853565\", \"ZERO_CVG_TARGETS_PCT\": \"0.014643\", \"PCT_PF_UQ_READS\": \"0.863303\", \"BAIT_TERRITORY\": \"29995334\", \"PCT_USABLE_BASES_ON_TARGET\": \"0.398377\", \"PCT_PF_READS\": \"1\", \"LIBRARY\": \"\", \"PF_READS\": \"94012248\", \"PCT_TARGET_BASES_2X\": \"0.973941\", \"GC_DROPOUT\": \"0\", \"AT_DROPOUT\": \"0\", \"PCT_TARGET_BASES_50X\": \"0.805244\", \"GENOME_SIZE\": \"3101804739\", \"PCT_PF_UQ_READS_ALIGNED\": \"0.919751\", \"FOLD_80_BASE_PENALTY\": \"2.247184\", \"HS_PENALTY_10X\": \"4.525396\", \"PCT_USABLE_BASES_ON_BAIT\": \"0.290559\", \"HS_PENALTY_20X\": \"4.667902\", \"PF_UNIQUE_READS\": \"81161080\", \"PCT_TARGET_BASES_20X\": \"0.933607\", \"SAMPLE\": \"\", \"NEAR_BAIT_BASES\": \"3683241363\", \"TARGET_TERRITORY\": \"45315485\", \"FOLD_ENRICHMENT\": \"38.551535\", \"PCT_TARGET_BASES_40X\": \"0.860528\", \"PCT_TARGET_BASES_100X\": \"0.48395\", \"BAIT_DESIGN_EFFICIENCY\": \"1.510751\", \"BAIT_SET\": \"NexteraRapidCapture_Exome_Probes_v1\", \"HS_PENALTY_100X\": \"6.471245\", \"PCT_SELECTED_BASES\": \"0.733954\", \"MEAN_BAIT_COVERAGE\": \"126.756337\", \"PF_UQ_BASES_ALIGNED\": \"10198644645\", \"PF_UQ_READS_ALIGNED\": \"74647951\"}\n"
       ]
      }
     ],
     "prompt_number": 26
    },
    {
     "cell_type": "code",
     "collapsed": false,
     "input": [],
     "language": "python",
     "metadata": {},
     "outputs": []
    }
   ],
   "metadata": {}
  }
 ]
}